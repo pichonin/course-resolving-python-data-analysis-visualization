{
 "cells": [
  {
   "cell_type": "markdown",
   "id": "37bff365-9df7-4a21-a604-37b31873cb1e",
   "metadata": {},
   "source": [
    "# Data Visualizations with Excel Data Tables"
   ]
  },
  {
   "cell_type": "markdown",
   "id": "4bc6b900-7134-4d14-a256-86ac67f14f81",
   "metadata": {},
   "source": [
    "## Load Excel in Python\n",
    "\n",
    "- gapminder.xlsx"
   ]
  },
  {
   "cell_type": "code",
   "execution_count": 1,
   "id": "3d8bdee2-39b0-40e8-bd4c-4acd8852d06d",
   "metadata": {},
   "outputs": [],
   "source": [
    "import pandas"
   ]
  },
  {
   "cell_type": "code",
   "execution_count": null,
   "id": "b58d6c1c",
   "metadata": {},
   "outputs": [],
   "source": [
    "pandas."
   ]
  },
  {
   "cell_type": "markdown",
   "id": "4f3d26ff-f1cd-411b-9d8c-4d44b5d89a3b",
   "metadata": {},
   "source": [
    "## Create a scatter plot"
   ]
  },
  {
   "cell_type": "markdown",
   "id": "4209e114-c51c-44da-af84-fdb1df19fc51",
   "metadata": {},
   "source": [
    "### Import matplotlib library"
   ]
  },
  {
   "cell_type": "code",
   "execution_count": null,
   "id": "73b87a60-8d1c-4b44-98e7-262c7003ef70",
   "metadata": {},
   "outputs": [],
   "source": []
  },
  {
   "cell_type": "markdown",
   "id": "8dcf2978-2edd-4db5-9532-b648a8821dcb",
   "metadata": {},
   "source": [
    "### Access column data separately"
   ]
  },
  {
   "cell_type": "code",
   "execution_count": null,
   "id": "dc7991ee-6348-4692-b20c-a213158abb86",
   "metadata": {},
   "outputs": [],
   "source": []
  },
  {
   "cell_type": "markdown",
   "id": "696edd30-66a7-4055-80db-b9ea0b68ebbe",
   "metadata": {},
   "source": [
    "### Pass data to scatter function"
   ]
  },
  {
   "cell_type": "code",
   "execution_count": null,
   "id": "39079b1f-ef53-4f96-9d85-e6d00592afcb",
   "metadata": {},
   "outputs": [],
   "source": []
  },
  {
   "cell_type": "markdown",
   "id": "db39b513-573b-4971-9183-80816f36aac0",
   "metadata": {},
   "source": [
    "## Customize the plot"
   ]
  },
  {
   "cell_type": "markdown",
   "id": "664bc742-9a26-41ec-81a6-d6bb60a82718",
   "metadata": {},
   "source": [
    "### Change the size"
   ]
  },
  {
   "cell_type": "code",
   "execution_count": null,
   "id": "57eb4019-cbe6-4e63-a1be-5ba54e35d57e",
   "metadata": {},
   "outputs": [],
   "source": []
  },
  {
   "cell_type": "markdown",
   "id": "ee4f9922-9801-4384-8892-c90669b56a3f",
   "metadata": {},
   "source": [
    "### Change the color"
   ]
  },
  {
   "cell_type": "code",
   "execution_count": null,
   "id": "48194d91-36f7-4ddf-85d2-95662c685aff",
   "metadata": {},
   "outputs": [],
   "source": []
  },
  {
   "cell_type": "markdown",
   "id": "7d71c3d3-2058-4096-a939-b5dbb49254dd",
   "metadata": {},
   "source": [
    "### Change the marker"
   ]
  },
  {
   "cell_type": "code",
   "execution_count": null,
   "id": "2a7a8bed-0c3c-421b-a206-81104f711f1a",
   "metadata": {},
   "outputs": [],
   "source": []
  },
  {
   "cell_type": "markdown",
   "id": "6f76d930-be40-401e-a292-fb4bc3cde9ef",
   "metadata": {},
   "source": [
    "### Change the border"
   ]
  },
  {
   "cell_type": "code",
   "execution_count": null,
   "id": "e6e415ff-ed99-49ed-9aa5-f202e0fc552c",
   "metadata": {},
   "outputs": [],
   "source": []
  },
  {
   "cell_type": "markdown",
   "id": "584b4f45-3708-4195-818d-b539326ddd9a",
   "metadata": {},
   "source": [
    "## Interactive scatter plot\n",
    "\n",
    "Which country represents each point?"
   ]
  },
  {
   "cell_type": "markdown",
   "id": "808dce39-10e7-4ea0-9313-fc80150d46aa",
   "metadata": {},
   "source": [
    "### Import plotly library"
   ]
  },
  {
   "cell_type": "code",
   "execution_count": null,
   "id": "e9dc510a-464a-45af-8c42-b04690c5f744",
   "metadata": {},
   "outputs": [],
   "source": [
    "import plotly.express as px"
   ]
  },
  {
   "cell_type": "markdown",
   "id": "1c01283e-40a3-44ad-8896-ba3c46bd12ae",
   "metadata": {},
   "source": [
    "### Pass data to scatter function"
   ]
  },
  {
   "cell_type": "code",
   "execution_count": null,
   "id": "70032c91-ee8d-4db2-ac6d-8e019067c2ba",
   "metadata": {},
   "outputs": [],
   "source": []
  },
  {
   "cell_type": "markdown",
   "id": "b23ace3b-9ddc-45f5-9dff-9352fcc4606a",
   "metadata": {},
   "source": [
    "### Add data to hovering"
   ]
  },
  {
   "cell_type": "code",
   "execution_count": null,
   "id": "a5f8869c-ac34-475f-815d-515aa958ae58",
   "metadata": {},
   "outputs": [],
   "source": []
  },
  {
   "cell_type": "markdown",
   "id": "25094809-d8df-4e35-9db2-1263e01175c2",
   "metadata": {},
   "source": [
    "## Data Analysis\n",
    "\n",
    "- [ ] What is the relationship between money_per_person (x-axis) and life_expectancy (y-axis)?"
   ]
  }
 ],
 "metadata": {
  "kernelspec": {
   "display_name": "Python 3 (ipykernel)",
   "language": "python",
   "name": "python3"
  },
  "language_info": {
   "codemirror_mode": {
    "name": "ipython",
    "version": 3
   },
   "file_extension": ".py",
   "mimetype": "text/x-python",
   "name": "python",
   "nbconvert_exporter": "python",
   "pygments_lexer": "ipython3",
   "version": "3.10.6"
  }
 },
 "nbformat": 4,
 "nbformat_minor": 5
}
