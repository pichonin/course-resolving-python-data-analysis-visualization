{
 "cells": [
  {
   "cell_type": "markdown",
   "id": "29778fd4-3b3c-485f-95a9-e7750bba38b0",
   "metadata": {},
   "source": [
    "# Introduction to Machine Learning\n",
    "\n",
    "- Use [this CheatSheet](https://www.craft.do/s/bj8CiGxswdNZl3/b/2CC9B9A0-7484-45FD-9097-52ED788D4925/The-Machine-Learning-System) to work better with the following exercises."
   ]
  },
  {
   "cell_type": "markdown",
   "id": "cea929c0-7c37-41cc-8fe2-4c40d9344890",
   "metadata": {},
   "source": [
    "## Load the data"
   ]
  },
  {
   "cell_type": "code",
   "execution_count": 1,
   "id": "d169a4a6-c0eb-4d3d-8259-d0dd9f80aca5",
   "metadata": {},
   "outputs": [],
   "source": [
    "import seaborn as sns"
   ]
  },
  {
   "cell_type": "code",
   "execution_count": 17,
   "id": "a68acda8-84d7-459d-b8da-0fa601ffe472",
   "metadata": {},
   "outputs": [
    {
     "data": {
      "text/plain": [
       "['anagrams',\n",
       " 'anscombe',\n",
       " 'attention',\n",
       " 'brain_networks',\n",
       " 'car_crashes',\n",
       " 'diamonds',\n",
       " 'dots',\n",
       " 'dowjones',\n",
       " 'exercise',\n",
       " 'flights',\n",
       " 'fmri',\n",
       " 'geyser',\n",
       " 'glue',\n",
       " 'healthexp',\n",
       " 'iris',\n",
       " 'mpg',\n",
       " 'penguins',\n",
       " 'planets',\n",
       " 'seaice',\n",
       " 'taxis',\n",
       " 'tips',\n",
       " 'titanic']"
      ]
     },
     "execution_count": 17,
     "metadata": {},
     "output_type": "execute_result"
    }
   ],
   "source": [
    "sns.get_dataset_names()"
   ]
  },
  {
   "cell_type": "markdown",
   "id": "2672655a-e835-4b78-9a1d-28268221d9ae",
   "metadata": {},
   "source": [
    "Load one of the datasets from the previous list"
   ]
  },
  {
   "cell_type": "code",
   "execution_count": 18,
   "id": "185f72af-3f34-49c2-a86a-395521ed2ace",
   "metadata": {},
   "outputs": [
    {
     "data": {
      "text/html": [
       "<div>\n",
       "<style scoped>\n",
       "    .dataframe tbody tr th:only-of-type {\n",
       "        vertical-align: middle;\n",
       "    }\n",
       "\n",
       "    .dataframe tbody tr th {\n",
       "        vertical-align: top;\n",
       "    }\n",
       "\n",
       "    .dataframe thead th {\n",
       "        text-align: right;\n",
       "    }\n",
       "</style>\n",
       "<table border=\"1\" class=\"dataframe\">\n",
       "  <thead>\n",
       "    <tr style=\"text-align: right;\">\n",
       "      <th></th>\n",
       "      <th>total_bill</th>\n",
       "      <th>tip</th>\n",
       "      <th>sex</th>\n",
       "      <th>smoker</th>\n",
       "      <th>day</th>\n",
       "      <th>time</th>\n",
       "      <th>size</th>\n",
       "    </tr>\n",
       "  </thead>\n",
       "  <tbody>\n",
       "    <tr>\n",
       "      <th>0</th>\n",
       "      <td>16.99</td>\n",
       "      <td>1.01</td>\n",
       "      <td>Female</td>\n",
       "      <td>No</td>\n",
       "      <td>Sun</td>\n",
       "      <td>Dinner</td>\n",
       "      <td>2</td>\n",
       "    </tr>\n",
       "    <tr>\n",
       "      <th>1</th>\n",
       "      <td>10.34</td>\n",
       "      <td>1.66</td>\n",
       "      <td>Male</td>\n",
       "      <td>No</td>\n",
       "      <td>Sun</td>\n",
       "      <td>Dinner</td>\n",
       "      <td>3</td>\n",
       "    </tr>\n",
       "    <tr>\n",
       "      <th>...</th>\n",
       "      <td>...</td>\n",
       "      <td>...</td>\n",
       "      <td>...</td>\n",
       "      <td>...</td>\n",
       "      <td>...</td>\n",
       "      <td>...</td>\n",
       "      <td>...</td>\n",
       "    </tr>\n",
       "    <tr>\n",
       "      <th>242</th>\n",
       "      <td>17.82</td>\n",
       "      <td>1.75</td>\n",
       "      <td>Male</td>\n",
       "      <td>No</td>\n",
       "      <td>Sat</td>\n",
       "      <td>Dinner</td>\n",
       "      <td>2</td>\n",
       "    </tr>\n",
       "    <tr>\n",
       "      <th>243</th>\n",
       "      <td>18.78</td>\n",
       "      <td>3.00</td>\n",
       "      <td>Female</td>\n",
       "      <td>No</td>\n",
       "      <td>Thur</td>\n",
       "      <td>Dinner</td>\n",
       "      <td>2</td>\n",
       "    </tr>\n",
       "  </tbody>\n",
       "</table>\n",
       "<p>244 rows × 7 columns</p>\n",
       "</div>"
      ],
      "text/plain": [
       "     total_bill   tip     sex smoker   day    time  size\n",
       "0         16.99  1.01  Female     No   Sun  Dinner     2\n",
       "1         10.34  1.66    Male     No   Sun  Dinner     3\n",
       "..          ...   ...     ...    ...   ...     ...   ...\n",
       "242       17.82  1.75    Male     No   Sat  Dinner     2\n",
       "243       18.78  3.00  Female     No  Thur  Dinner     2\n",
       "\n",
       "[244 rows x 7 columns]"
      ]
     },
     "execution_count": 18,
     "metadata": {},
     "output_type": "execute_result"
    }
   ],
   "source": [
    "df = sns.load_dataset('tips')\n",
    "df"
   ]
  },
  {
   "cell_type": "markdown",
   "id": "4481a5f1-63d3-44dd-b7a0-6a76ae74b36a",
   "metadata": {},
   "source": [
    "## Select the variables for the model\n",
    "\n",
    "**Both variables must be continuous**\n",
    "\n",
    "1. y: the variable you want to predict\n",
    "2. X: the variable you will use to calculate the prediction y"
   ]
  },
  {
   "cell_type": "code",
   "execution_count": 19,
   "id": "0c022284-28e5-45bb-a89f-d3a699161ba2",
   "metadata": {},
   "outputs": [],
   "source": [
    "y = df.tip\n",
    "X = df[['total_bill']]"
   ]
  },
  {
   "cell_type": "markdown",
   "id": "ff044b30-caed-41bc-ab8d-ae15a66807ca",
   "metadata": {},
   "source": [
    "## The Linear Regression ML Model"
   ]
  },
  {
   "cell_type": "markdown",
   "id": "0c7d631a-1d16-44a5-ad0f-44355d1c89df",
   "metadata": {},
   "source": [
    "### Fit the model with the data"
   ]
  },
  {
   "cell_type": "code",
   "execution_count": 20,
   "id": "dcddb21e-0813-4920-b53b-544983907891",
   "metadata": {},
   "outputs": [],
   "source": [
    "from sklearn.linear_model import LinearRegression"
   ]
  },
  {
   "cell_type": "code",
   "execution_count": 21,
   "id": "36e2a5f1-a107-43a7-8372-0062112a9888",
   "metadata": {},
   "outputs": [],
   "source": [
    "model_lr = LinearRegression()"
   ]
  },
  {
   "cell_type": "code",
   "execution_count": 22,
   "id": "269031c4-92bf-43b9-8151-36c2b16ccef0",
   "metadata": {},
   "outputs": [
    {
     "data": {
      "text/html": [
       "<style>#sk-container-id-3 {color: black;background-color: white;}#sk-container-id-3 pre{padding: 0;}#sk-container-id-3 div.sk-toggleable {background-color: white;}#sk-container-id-3 label.sk-toggleable__label {cursor: pointer;display: block;width: 100%;margin-bottom: 0;padding: 0.3em;box-sizing: border-box;text-align: center;}#sk-container-id-3 label.sk-toggleable__label-arrow:before {content: \"▸\";float: left;margin-right: 0.25em;color: #696969;}#sk-container-id-3 label.sk-toggleable__label-arrow:hover:before {color: black;}#sk-container-id-3 div.sk-estimator:hover label.sk-toggleable__label-arrow:before {color: black;}#sk-container-id-3 div.sk-toggleable__content {max-height: 0;max-width: 0;overflow: hidden;text-align: left;background-color: #f0f8ff;}#sk-container-id-3 div.sk-toggleable__content pre {margin: 0.2em;color: black;border-radius: 0.25em;background-color: #f0f8ff;}#sk-container-id-3 input.sk-toggleable__control:checked~div.sk-toggleable__content {max-height: 200px;max-width: 100%;overflow: auto;}#sk-container-id-3 input.sk-toggleable__control:checked~label.sk-toggleable__label-arrow:before {content: \"▾\";}#sk-container-id-3 div.sk-estimator input.sk-toggleable__control:checked~label.sk-toggleable__label {background-color: #d4ebff;}#sk-container-id-3 div.sk-label input.sk-toggleable__control:checked~label.sk-toggleable__label {background-color: #d4ebff;}#sk-container-id-3 input.sk-hidden--visually {border: 0;clip: rect(1px 1px 1px 1px);clip: rect(1px, 1px, 1px, 1px);height: 1px;margin: -1px;overflow: hidden;padding: 0;position: absolute;width: 1px;}#sk-container-id-3 div.sk-estimator {font-family: monospace;background-color: #f0f8ff;border: 1px dotted black;border-radius: 0.25em;box-sizing: border-box;margin-bottom: 0.5em;}#sk-container-id-3 div.sk-estimator:hover {background-color: #d4ebff;}#sk-container-id-3 div.sk-parallel-item::after {content: \"\";width: 100%;border-bottom: 1px solid gray;flex-grow: 1;}#sk-container-id-3 div.sk-label:hover label.sk-toggleable__label {background-color: #d4ebff;}#sk-container-id-3 div.sk-serial::before {content: \"\";position: absolute;border-left: 1px solid gray;box-sizing: border-box;top: 0;bottom: 0;left: 50%;z-index: 0;}#sk-container-id-3 div.sk-serial {display: flex;flex-direction: column;align-items: center;background-color: white;padding-right: 0.2em;padding-left: 0.2em;position: relative;}#sk-container-id-3 div.sk-item {position: relative;z-index: 1;}#sk-container-id-3 div.sk-parallel {display: flex;align-items: stretch;justify-content: center;background-color: white;position: relative;}#sk-container-id-3 div.sk-item::before, #sk-container-id-3 div.sk-parallel-item::before {content: \"\";position: absolute;border-left: 1px solid gray;box-sizing: border-box;top: 0;bottom: 0;left: 50%;z-index: -1;}#sk-container-id-3 div.sk-parallel-item {display: flex;flex-direction: column;z-index: 1;position: relative;background-color: white;}#sk-container-id-3 div.sk-parallel-item:first-child::after {align-self: flex-end;width: 50%;}#sk-container-id-3 div.sk-parallel-item:last-child::after {align-self: flex-start;width: 50%;}#sk-container-id-3 div.sk-parallel-item:only-child::after {width: 0;}#sk-container-id-3 div.sk-dashed-wrapped {border: 1px dashed gray;margin: 0 0.4em 0.5em 0.4em;box-sizing: border-box;padding-bottom: 0.4em;background-color: white;}#sk-container-id-3 div.sk-label label {font-family: monospace;font-weight: bold;display: inline-block;line-height: 1.2em;}#sk-container-id-3 div.sk-label-container {text-align: center;}#sk-container-id-3 div.sk-container {/* jupyter's `normalize.less` sets `[hidden] { display: none; }` but bootstrap.min.css set `[hidden] { display: none !important; }` so we also need the `!important` here to be able to override the default hidden behavior on the sphinx rendered scikit-learn.org. See: https://github.com/scikit-learn/scikit-learn/issues/21755 */display: inline-block !important;position: relative;}#sk-container-id-3 div.sk-text-repr-fallback {display: none;}</style><div id=\"sk-container-id-3\" class=\"sk-top-container\"><div class=\"sk-text-repr-fallback\"><pre>LinearRegression()</pre><b>In a Jupyter environment, please rerun this cell to show the HTML representation or trust the notebook. <br />On GitHub, the HTML representation is unable to render, please try loading this page with nbviewer.org.</b></div><div class=\"sk-container\" hidden><div class=\"sk-item\"><div class=\"sk-estimator sk-toggleable\"><input class=\"sk-toggleable__control sk-hidden--visually\" id=\"sk-estimator-id-3\" type=\"checkbox\" checked><label for=\"sk-estimator-id-3\" class=\"sk-toggleable__label sk-toggleable__label-arrow\">LinearRegression</label><div class=\"sk-toggleable__content\"><pre>LinearRegression()</pre></div></div></div></div></div>"
      ],
      "text/plain": [
       "LinearRegression()"
      ]
     },
     "execution_count": 22,
     "metadata": {},
     "output_type": "execute_result"
    }
   ],
   "source": [
    "model_lr.fit(X, y)"
   ]
  },
  {
   "cell_type": "markdown",
   "id": "f5f9c0b6-3239-413b-974f-ddf841fddd5e",
   "metadata": {},
   "source": [
    "### Predictions"
   ]
  },
  {
   "cell_type": "markdown",
   "id": "08f726e1-7fee-4cf6-b972-d72c1e3b1ac2",
   "metadata": {},
   "source": [
    "#### Calculate the predictions"
   ]
  },
  {
   "cell_type": "code",
   "execution_count": 23,
   "id": "65af54f6-bc4a-435d-8ae4-5df0ffe25d4e",
   "metadata": {},
   "outputs": [
    {
     "data": {
      "text/plain": [
       "array([2.70463616, 2.00622312, 3.12683472, 3.40725019, 3.5028225 ,\n",
       "       3.57633966, 1.84133463, 3.74332864, 2.49983836, 2.47253198,\n",
       "       1.99887141, 4.6234341 , 2.53974767, 2.85587147, 2.47778321,\n",
       "       3.1866987 , 2.00517288, 2.631119  , 2.70253567, 3.0890259 ,\n",
       "       2.80230897, 3.05121707, 2.57650625, 5.06033609, 3.00185555,\n",
       "       2.79075627, 2.32444741, 2.25303074, 3.19930164, 2.98400138,\n",
       "       1.92325375, 2.84746951, 2.50193885, 3.09322688, 2.78760553,\n",
       "       3.4471595 , 2.63321949, 2.69833469, 2.88317784, 4.20438627,\n",
       "       2.60486287, 2.75399769, 2.38431139, 1.93690694, 4.11301494,\n",
       "       2.84116804, 3.25496464, 4.32306398, 3.91871958, 2.81491191,\n",
       "       2.23727706, 2.0009719 , 4.57617306, 1.96421332, 3.60469628,\n",
       "       2.96719746, 4.91225152, 3.69396712, 2.10074519, 5.98980307,\n",
       "       3.05121707, 2.3706582 , 2.0776398 , 2.84116804, 2.76765087,\n",
       "       3.02916192, 2.64792292, 1.24269488, 3.0449156 , 2.49668762,\n",
       "       2.18266431, 2.71303813, 3.74122815, 3.57528941, 2.46728075,\n",
       "       2.02407729, 2.80230897, 3.77693649, 3.31062763, 2.73614352,\n",
       "       2.96194623, 2.66997807, 1.9778665 , 4.35247084, 2.5985614 ,\n",
       "       4.57827355, 2.28873908, 2.84011779, 3.51542544, 3.1425884 ,\n",
       "       3.96282988, 3.28227101, 1.52416059, 2.63426974, 3.30957738,\n",
       "       5.13910448, 3.78533845, 2.18371456, 3.12683472, 2.2288751 ,\n",
       "       2.11229789, 2.53554669, 5.57285573, 3.27491929, 3.11738252,\n",
       "       2.5334462 , 3.07222197, 3.5679377 , 2.83591681, 2.42317046,\n",
       "       2.39061286, 1.68169736, 4.91855299, 3.4356068 , 3.62044996,\n",
       "       2.73824401, 4.06365342, 2.03878072, 2.22572436, 3.44925999,\n",
       "       2.14800622, 2.32969864, 2.41791923, 2.59541067, 2.23097559,\n",
       "       4.05000023, 1.8150785 , 2.44522561, 2.11544862, 3.3169291 ,\n",
       "       2.92413741, 3.04911658, 2.09339347, 2.2078702 , 2.8380173 ,\n",
       "       1.81402826, 2.00517288, 2.40636653, 2.60066189, 2.30239226,\n",
       "       2.75504793, 4.52261056, 5.24622948, 3.76118281, 2.64582243,\n",
       "       1.79722433, 2.87792662, 2.16691063, 1.94740939, 1.70900374,\n",
       "       2.39796457, 2.29924153, 2.73299278, 3.49862152, 2.99660432,\n",
       "       4.05525146, 5.97930062, 3.54588255, 2.3265479 , 2.65212391,\n",
       "       3.17829674, 2.24988   , 2.62271704, 2.3706582 , 2.75924891,\n",
       "       3.49547078, 3.10057859, 4.25059706, 2.03247925, 2.03668023,\n",
       "       6.25656534, 2.58070723, 1.68169736, 4.26530049, 2.686782  ,\n",
       "       4.37557624, 2.79915823, 2.44102463, 1.92850498, 4.55726865,\n",
       "       4.55936914, 3.3704916 , 5.68313148, 3.35368768, 5.17901379,\n",
       "       3.09322688, 3.11528203, 4.11931641, 2.8264646 , 3.34633597,\n",
       "       2.56810429, 3.0008053 , 3.90716689, 2.54604914, 2.66157611,\n",
       "       1.71425496, 2.00622312, 5.44787656, 2.28558834, 2.33915084,\n",
       "       2.88527833, 2.25828197, 2.28558834, 2.6426717 , 3.07642296,\n",
       "       2.65002341, 3.71287153, 4.98786917, 3.46921465, 2.26038246,\n",
       "       4.07730661, 3.63935437, 5.99610454, 2.31394496, 3.87881027,\n",
       "       2.27508589, 3.87670978, 2.13750377, 1.73315938, 4.08570857,\n",
       "       2.19736774, 2.32969864, 1.82137997, 2.5985614 , 2.32969864,\n",
       "       2.62901851, 1.97996699, 3.06802099, 2.3149952 , 3.24341194,\n",
       "       3.44190828, 2.56810429, 2.13960426, 2.05138367, 2.55130037,\n",
       "       1.9778665 , 2.24357853, 4.36822452, 4.68329807, 3.96913135,\n",
       "       3.774836  , 3.30117542, 2.79180651, 2.89263005])"
      ]
     },
     "execution_count": 23,
     "metadata": {},
     "output_type": "execute_result"
    }
   ],
   "source": [
    "model_lr.predict(X)"
   ]
  },
  {
   "cell_type": "markdown",
   "id": "ac289e15-3f32-44fd-a16d-49d0ff173503",
   "metadata": {},
   "source": [
    "### Model evaluation"
   ]
  },
  {
   "cell_type": "markdown",
   "id": "ceec6f9b-f086-4a74-9cf2-d0fde1ab7036",
   "metadata": {},
   "source": [
    "#### Calculate the model's score"
   ]
  },
  {
   "cell_type": "code",
   "execution_count": 24,
   "id": "73f5b82e-4a9f-43b8-9f42-5e580f5c1078",
   "metadata": {},
   "outputs": [
    {
     "data": {
      "text/plain": [
       "0.45661658635167657"
      ]
     },
     "execution_count": 24,
     "metadata": {},
     "output_type": "execute_result"
    }
   ],
   "source": [
    "model_lr.score(X, y)"
   ]
  },
  {
   "cell_type": "markdown",
   "id": "c32a7681-9ff2-4fb1-96ec-9c4b1907f051",
   "metadata": {},
   "source": [
    "## The K Nearest Neighbours ML Model"
   ]
  },
  {
   "cell_type": "markdown",
   "id": "af717d77-0434-44df-b294-02da229d35b2",
   "metadata": {},
   "source": [
    "### Fit the model with the data"
   ]
  },
  {
   "cell_type": "code",
   "execution_count": 25,
   "id": "8d31ae09-5999-40ba-b298-b1db669166d5",
   "metadata": {},
   "outputs": [],
   "source": [
    "from sklearn.neighbors import KNeighborsRegressor"
   ]
  },
  {
   "cell_type": "code",
   "execution_count": 26,
   "id": "4eaa65fe-b3e2-4b63-b043-b389057ca1f7",
   "metadata": {},
   "outputs": [],
   "source": [
    "model_kn = KNeighborsRegressor()"
   ]
  },
  {
   "cell_type": "code",
   "execution_count": 27,
   "id": "32b5340d-a9b5-4f57-b13b-377adc8f5127",
   "metadata": {},
   "outputs": [
    {
     "data": {
      "text/html": [
       "<style>#sk-container-id-4 {color: black;background-color: white;}#sk-container-id-4 pre{padding: 0;}#sk-container-id-4 div.sk-toggleable {background-color: white;}#sk-container-id-4 label.sk-toggleable__label {cursor: pointer;display: block;width: 100%;margin-bottom: 0;padding: 0.3em;box-sizing: border-box;text-align: center;}#sk-container-id-4 label.sk-toggleable__label-arrow:before {content: \"▸\";float: left;margin-right: 0.25em;color: #696969;}#sk-container-id-4 label.sk-toggleable__label-arrow:hover:before {color: black;}#sk-container-id-4 div.sk-estimator:hover label.sk-toggleable__label-arrow:before {color: black;}#sk-container-id-4 div.sk-toggleable__content {max-height: 0;max-width: 0;overflow: hidden;text-align: left;background-color: #f0f8ff;}#sk-container-id-4 div.sk-toggleable__content pre {margin: 0.2em;color: black;border-radius: 0.25em;background-color: #f0f8ff;}#sk-container-id-4 input.sk-toggleable__control:checked~div.sk-toggleable__content {max-height: 200px;max-width: 100%;overflow: auto;}#sk-container-id-4 input.sk-toggleable__control:checked~label.sk-toggleable__label-arrow:before {content: \"▾\";}#sk-container-id-4 div.sk-estimator input.sk-toggleable__control:checked~label.sk-toggleable__label {background-color: #d4ebff;}#sk-container-id-4 div.sk-label input.sk-toggleable__control:checked~label.sk-toggleable__label {background-color: #d4ebff;}#sk-container-id-4 input.sk-hidden--visually {border: 0;clip: rect(1px 1px 1px 1px);clip: rect(1px, 1px, 1px, 1px);height: 1px;margin: -1px;overflow: hidden;padding: 0;position: absolute;width: 1px;}#sk-container-id-4 div.sk-estimator {font-family: monospace;background-color: #f0f8ff;border: 1px dotted black;border-radius: 0.25em;box-sizing: border-box;margin-bottom: 0.5em;}#sk-container-id-4 div.sk-estimator:hover {background-color: #d4ebff;}#sk-container-id-4 div.sk-parallel-item::after {content: \"\";width: 100%;border-bottom: 1px solid gray;flex-grow: 1;}#sk-container-id-4 div.sk-label:hover label.sk-toggleable__label {background-color: #d4ebff;}#sk-container-id-4 div.sk-serial::before {content: \"\";position: absolute;border-left: 1px solid gray;box-sizing: border-box;top: 0;bottom: 0;left: 50%;z-index: 0;}#sk-container-id-4 div.sk-serial {display: flex;flex-direction: column;align-items: center;background-color: white;padding-right: 0.2em;padding-left: 0.2em;position: relative;}#sk-container-id-4 div.sk-item {position: relative;z-index: 1;}#sk-container-id-4 div.sk-parallel {display: flex;align-items: stretch;justify-content: center;background-color: white;position: relative;}#sk-container-id-4 div.sk-item::before, #sk-container-id-4 div.sk-parallel-item::before {content: \"\";position: absolute;border-left: 1px solid gray;box-sizing: border-box;top: 0;bottom: 0;left: 50%;z-index: -1;}#sk-container-id-4 div.sk-parallel-item {display: flex;flex-direction: column;z-index: 1;position: relative;background-color: white;}#sk-container-id-4 div.sk-parallel-item:first-child::after {align-self: flex-end;width: 50%;}#sk-container-id-4 div.sk-parallel-item:last-child::after {align-self: flex-start;width: 50%;}#sk-container-id-4 div.sk-parallel-item:only-child::after {width: 0;}#sk-container-id-4 div.sk-dashed-wrapped {border: 1px dashed gray;margin: 0 0.4em 0.5em 0.4em;box-sizing: border-box;padding-bottom: 0.4em;background-color: white;}#sk-container-id-4 div.sk-label label {font-family: monospace;font-weight: bold;display: inline-block;line-height: 1.2em;}#sk-container-id-4 div.sk-label-container {text-align: center;}#sk-container-id-4 div.sk-container {/* jupyter's `normalize.less` sets `[hidden] { display: none; }` but bootstrap.min.css set `[hidden] { display: none !important; }` so we also need the `!important` here to be able to override the default hidden behavior on the sphinx rendered scikit-learn.org. See: https://github.com/scikit-learn/scikit-learn/issues/21755 */display: inline-block !important;position: relative;}#sk-container-id-4 div.sk-text-repr-fallback {display: none;}</style><div id=\"sk-container-id-4\" class=\"sk-top-container\"><div class=\"sk-text-repr-fallback\"><pre>KNeighborsRegressor()</pre><b>In a Jupyter environment, please rerun this cell to show the HTML representation or trust the notebook. <br />On GitHub, the HTML representation is unable to render, please try loading this page with nbviewer.org.</b></div><div class=\"sk-container\" hidden><div class=\"sk-item\"><div class=\"sk-estimator sk-toggleable\"><input class=\"sk-toggleable__control sk-hidden--visually\" id=\"sk-estimator-id-4\" type=\"checkbox\" checked><label for=\"sk-estimator-id-4\" class=\"sk-toggleable__label sk-toggleable__label-arrow\">KNeighborsRegressor</label><div class=\"sk-toggleable__content\"><pre>KNeighborsRegressor()</pre></div></div></div></div></div>"
      ],
      "text/plain": [
       "KNeighborsRegressor()"
      ]
     },
     "execution_count": 27,
     "metadata": {},
     "output_type": "execute_result"
    }
   ],
   "source": [
    "model_kn.fit(X, y)"
   ]
  },
  {
   "cell_type": "markdown",
   "id": "9f884da9-714d-4a5d-8582-410e84bb5bb1",
   "metadata": {},
   "source": [
    "### Predictions"
   ]
  },
  {
   "cell_type": "markdown",
   "id": "16d472b2-4380-4692-8238-165e255f234b",
   "metadata": {},
   "source": [
    "#### Calculate the predictions"
   ]
  },
  {
   "cell_type": "code",
   "execution_count": 28,
   "id": "8f1fbc55-408c-40ad-9e03-fad27f0a2885",
   "metadata": {},
   "outputs": [
    {
     "data": {
      "text/plain": [
       "array([2.916, 1.986, 3.416, 3.422, 3.394, 4.418, 1.63 , 3.334, 2.66 ,\n",
       "       2.5  , 1.928, 4.744, 2.246, 3.252, 2.5  , 3.52 , 1.986, 2.902,\n",
       "       2.916, 3.408, 2.65 , 2.76 , 2.378, 4.462, 3.104, 2.688, 2.27 ,\n",
       "       1.948, 3.92 , 3.176, 2.012, 3.252, 2.66 , 3.408, 2.688, 2.62 ,\n",
       "       3.002, 2.916, 2.734, 4.056, 2.254, 3.036, 2.512, 2.012, 3.552,\n",
       "       3.554, 3.372, 3.692, 3.422, 3.132, 1.864, 1.928, 4.52 , 1.674,\n",
       "       4.642, 3.14 , 4.462, 3.266, 1.948, 6.846, 2.76 , 2.512, 1.842,\n",
       "       3.554, 2.99 , 2.79 , 2.5  , 2.03 , 2.79 , 2.66 , 1.86 , 2.664,\n",
       "       3.334, 4.418, 2.49 , 1.604, 2.65 , 3.624, 2.786, 2.998, 2.602,\n",
       "       3.326, 1.67 , 3.692, 2.254, 4.52 , 1.82 , 3.554, 3.738, 3.416,\n",
       "       4.006, 3.446, 2.118, 3.002, 2.786, 4.662, 3.624, 1.86 , 3.416,\n",
       "       1.864, 1.852, 2.246, 3.8  , 3.372, 3.264, 2.246, 3.432, 4.418,\n",
       "       3.554, 2.5  , 2.512, 2.206, 4.462, 2.876, 4.642, 2.998, 3.9  ,\n",
       "       1.566, 2.064, 2.62 , 2.166, 2.27 , 2.6  , 2.254, 1.864, 3.9  ,\n",
       "       1.63 , 2.686, 1.852, 2.886, 2.762, 2.76 , 1.948, 2.004, 3.554,\n",
       "       1.63 , 1.986, 2.8  , 2.254, 2.394, 3.036, 4.86 , 5.062, 3.452,\n",
       "       2.5  , 1.63 , 2.734, 2.16 , 2.012, 2.206, 2.612, 2.15 , 2.898,\n",
       "       3.394, 3.176, 3.9  , 6.846, 4.72 , 2.27 , 2.8  , 3.544, 1.948,\n",
       "       2.902, 2.512, 3.036, 3.394, 3.308, 4.736, 1.566, 1.566, 6.846,\n",
       "       2.378, 2.206, 4.736, 2.996, 3.692, 2.65 , 2.54 , 2.012, 4.86 ,\n",
       "       4.86 , 4.328, 4.546, 4.266, 4.662, 3.408, 3.264, 3.552, 3.502,\n",
       "       4.266, 2.578, 3.104, 3.422, 2.246, 3.02 , 2.206, 1.986, 3.8  ,\n",
       "       1.82 , 2.27 , 2.734, 1.948, 1.82 , 2.96 , 3.372, 2.5  , 3.234,\n",
       "       4.462, 2.806, 1.968, 3.9  , 3.942, 6.846, 2.516, 3.422, 1.866,\n",
       "       3.422, 2.34 , 2.206, 4.18 , 1.894, 2.27 , 1.63 , 2.254, 2.27 ,\n",
       "       2.902, 1.67 , 3.404, 2.516, 3.832, 2.62 , 2.578, 2.34 , 1.712,\n",
       "       2.218, 1.67 , 2.104, 3.692, 4.744, 3.546, 3.624, 2.786, 2.688,\n",
       "       2.434])"
      ]
     },
     "execution_count": 28,
     "metadata": {},
     "output_type": "execute_result"
    }
   ],
   "source": [
    "model_kn.predict(X)"
   ]
  },
  {
   "cell_type": "code",
   "execution_count": null,
   "id": "7a0e6feb-d184-4e0c-b12e-71c89cb5531b",
   "metadata": {},
   "outputs": [],
   "source": []
  },
  {
   "cell_type": "markdown",
   "id": "e1f8836a-9899-4671-bc49-a531b84c1374",
   "metadata": {},
   "source": [
    "### Model evaluation"
   ]
  },
  {
   "cell_type": "markdown",
   "id": "e2ff0436-b07c-4a5a-8dfa-808ac8cadcdc",
   "metadata": {},
   "source": [
    "#### Calculate the model's score"
   ]
  },
  {
   "cell_type": "code",
   "execution_count": 29,
   "id": "3e42821f-4a5c-4e69-9dd1-60574c9e17c8",
   "metadata": {},
   "outputs": [
    {
     "data": {
      "text/plain": [
       "0.5603363923139638"
      ]
     },
     "execution_count": 29,
     "metadata": {},
     "output_type": "execute_result"
    }
   ],
   "source": [
    "model_kn.score(X, y)"
   ]
  },
  {
   "cell_type": "code",
   "execution_count": null,
   "id": "b82af5ff-367e-4f04-92f5-54a636e26200",
   "metadata": {},
   "outputs": [],
   "source": []
  },
  {
   "cell_type": "code",
   "execution_count": null,
   "id": "6a7c8b3d-9802-4e0e-9494-55e885a88549",
   "metadata": {},
   "outputs": [],
   "source": []
  },
  {
   "cell_type": "markdown",
   "id": "1b89f3a4-b8c1-4308-aba9-5d66cf499741",
   "metadata": {},
   "source": [
    "## The Support Vector Machine ML Model"
   ]
  },
  {
   "cell_type": "markdown",
   "id": "d2548352-6818-4957-bc01-825a786b4ac7",
   "metadata": {},
   "source": [
    "### Fit the model with the data"
   ]
  },
  {
   "cell_type": "code",
   "execution_count": 30,
   "id": "e2a24520-020b-4408-9f7a-748ba3a0c8e8",
   "metadata": {},
   "outputs": [],
   "source": [
    "from sklearn.svm import SVR"
   ]
  },
  {
   "cell_type": "code",
   "execution_count": 31,
   "id": "4481ffff-380c-489e-b360-dd0737c0fc13",
   "metadata": {},
   "outputs": [],
   "source": [
    "model_sv = SVR()"
   ]
  },
  {
   "cell_type": "code",
   "execution_count": 32,
   "id": "290828bb-3d03-4dcd-85c5-a35acd55b064",
   "metadata": {},
   "outputs": [
    {
     "data": {
      "text/html": [
       "<style>#sk-container-id-5 {color: black;background-color: white;}#sk-container-id-5 pre{padding: 0;}#sk-container-id-5 div.sk-toggleable {background-color: white;}#sk-container-id-5 label.sk-toggleable__label {cursor: pointer;display: block;width: 100%;margin-bottom: 0;padding: 0.3em;box-sizing: border-box;text-align: center;}#sk-container-id-5 label.sk-toggleable__label-arrow:before {content: \"▸\";float: left;margin-right: 0.25em;color: #696969;}#sk-container-id-5 label.sk-toggleable__label-arrow:hover:before {color: black;}#sk-container-id-5 div.sk-estimator:hover label.sk-toggleable__label-arrow:before {color: black;}#sk-container-id-5 div.sk-toggleable__content {max-height: 0;max-width: 0;overflow: hidden;text-align: left;background-color: #f0f8ff;}#sk-container-id-5 div.sk-toggleable__content pre {margin: 0.2em;color: black;border-radius: 0.25em;background-color: #f0f8ff;}#sk-container-id-5 input.sk-toggleable__control:checked~div.sk-toggleable__content {max-height: 200px;max-width: 100%;overflow: auto;}#sk-container-id-5 input.sk-toggleable__control:checked~label.sk-toggleable__label-arrow:before {content: \"▾\";}#sk-container-id-5 div.sk-estimator input.sk-toggleable__control:checked~label.sk-toggleable__label {background-color: #d4ebff;}#sk-container-id-5 div.sk-label input.sk-toggleable__control:checked~label.sk-toggleable__label {background-color: #d4ebff;}#sk-container-id-5 input.sk-hidden--visually {border: 0;clip: rect(1px 1px 1px 1px);clip: rect(1px, 1px, 1px, 1px);height: 1px;margin: -1px;overflow: hidden;padding: 0;position: absolute;width: 1px;}#sk-container-id-5 div.sk-estimator {font-family: monospace;background-color: #f0f8ff;border: 1px dotted black;border-radius: 0.25em;box-sizing: border-box;margin-bottom: 0.5em;}#sk-container-id-5 div.sk-estimator:hover {background-color: #d4ebff;}#sk-container-id-5 div.sk-parallel-item::after {content: \"\";width: 100%;border-bottom: 1px solid gray;flex-grow: 1;}#sk-container-id-5 div.sk-label:hover label.sk-toggleable__label {background-color: #d4ebff;}#sk-container-id-5 div.sk-serial::before {content: \"\";position: absolute;border-left: 1px solid gray;box-sizing: border-box;top: 0;bottom: 0;left: 50%;z-index: 0;}#sk-container-id-5 div.sk-serial {display: flex;flex-direction: column;align-items: center;background-color: white;padding-right: 0.2em;padding-left: 0.2em;position: relative;}#sk-container-id-5 div.sk-item {position: relative;z-index: 1;}#sk-container-id-5 div.sk-parallel {display: flex;align-items: stretch;justify-content: center;background-color: white;position: relative;}#sk-container-id-5 div.sk-item::before, #sk-container-id-5 div.sk-parallel-item::before {content: \"\";position: absolute;border-left: 1px solid gray;box-sizing: border-box;top: 0;bottom: 0;left: 50%;z-index: -1;}#sk-container-id-5 div.sk-parallel-item {display: flex;flex-direction: column;z-index: 1;position: relative;background-color: white;}#sk-container-id-5 div.sk-parallel-item:first-child::after {align-self: flex-end;width: 50%;}#sk-container-id-5 div.sk-parallel-item:last-child::after {align-self: flex-start;width: 50%;}#sk-container-id-5 div.sk-parallel-item:only-child::after {width: 0;}#sk-container-id-5 div.sk-dashed-wrapped {border: 1px dashed gray;margin: 0 0.4em 0.5em 0.4em;box-sizing: border-box;padding-bottom: 0.4em;background-color: white;}#sk-container-id-5 div.sk-label label {font-family: monospace;font-weight: bold;display: inline-block;line-height: 1.2em;}#sk-container-id-5 div.sk-label-container {text-align: center;}#sk-container-id-5 div.sk-container {/* jupyter's `normalize.less` sets `[hidden] { display: none; }` but bootstrap.min.css set `[hidden] { display: none !important; }` so we also need the `!important` here to be able to override the default hidden behavior on the sphinx rendered scikit-learn.org. See: https://github.com/scikit-learn/scikit-learn/issues/21755 */display: inline-block !important;position: relative;}#sk-container-id-5 div.sk-text-repr-fallback {display: none;}</style><div id=\"sk-container-id-5\" class=\"sk-top-container\"><div class=\"sk-text-repr-fallback\"><pre>SVR()</pre><b>In a Jupyter environment, please rerun this cell to show the HTML representation or trust the notebook. <br />On GitHub, the HTML representation is unable to render, please try loading this page with nbviewer.org.</b></div><div class=\"sk-container\" hidden><div class=\"sk-item\"><div class=\"sk-estimator sk-toggleable\"><input class=\"sk-toggleable__control sk-hidden--visually\" id=\"sk-estimator-id-5\" type=\"checkbox\" checked><label for=\"sk-estimator-id-5\" class=\"sk-toggleable__label sk-toggleable__label-arrow\">SVR</label><div class=\"sk-toggleable__content\"><pre>SVR()</pre></div></div></div></div></div>"
      ],
      "text/plain": [
       "SVR()"
      ]
     },
     "execution_count": 32,
     "metadata": {},
     "output_type": "execute_result"
    }
   ],
   "source": [
    "model_sv.fit(X, y)"
   ]
  },
  {
   "cell_type": "markdown",
   "id": "ae6eb160-32a6-4e9d-aa9b-de66bae83013",
   "metadata": {},
   "source": [
    "### Predictions"
   ]
  },
  {
   "cell_type": "markdown",
   "id": "43a830ac-5cf7-4412-b885-178013cab68e",
   "metadata": {},
   "source": [
    "#### Calculate the predictions"
   ]
  },
  {
   "cell_type": "code",
   "execution_count": 33,
   "id": "57d27f98-d72e-4780-b9d2-53048d753c5c",
   "metadata": {},
   "outputs": [
    {
     "data": {
      "text/plain": [
       "array([2.73991249, 1.74766152, 3.26767403, 3.51374935, 3.59636995,\n",
       "       3.66375701, 1.6036565 , 3.83442985, 2.42134284, 2.37848137,\n",
       "       1.74015205, 4.57040161, 2.48418918, 2.95578074, 2.38670938,\n",
       "       3.32415604, 1.74658288, 2.6274048 , 2.73675109, 3.23001898,\n",
       "       2.8822872 , 3.19061638, 2.54204503, 4.50567059, 3.13632624,\n",
       "       2.86597528, 2.1523542 , 2.04980687, 3.33562243, 3.11585949,\n",
       "       1.66863651, 2.944494  , 2.42464645, 3.23428632, 2.86149975,\n",
       "       3.54774719, 2.63066437, 2.73041757, 2.9918126 , 4.35734932,\n",
       "       2.58649594, 2.81307832, 2.24203279, 1.68075751, 4.26308296,\n",
       "       2.9359685 , 3.38486254, 4.45799569, 4.03708084, 2.89990149,\n",
       "       2.02795302, 1.74228784, 4.56623956, 1.70605893, 3.69093283,\n",
       "       3.09618542, 4.5301756 , 3.78130522, 1.85242629, 5.10765961,\n",
       "       3.19061638, 2.22132758, 1.82545373, 2.9359685 , 2.8328964 ,\n",
       "       3.1667693 , 2.65341818, 1.63146893, 3.18386933, 2.41638886,\n",
       "       1.95461735, 2.75252146, 3.83212569, 3.66276399, 2.37026174,\n",
       "       1.76629434, 2.8822872 , 3.87178851, 3.43244566, 2.78687665,\n",
       "       3.08995506, 2.6873165 , 1.71922909, 4.47831691, 2.57663839,\n",
       "       4.56652114, 2.10040428, 2.93454259, 3.6076367 , 3.28288779,\n",
       "       4.08966775, 3.40835766, 1.49672719, 2.63229335, 3.4315578 ,\n",
       "       4.50354758, 3.88126602, 1.95599034, 3.26767403, 2.01642117,\n",
       "       1.8662285 , 2.47757021, 4.72013673, 3.40206548, 3.25841525,\n",
       "       2.47426067, 3.21273139, 3.6558391 , 2.92882478, 2.30164085,\n",
       "       2.2516337 , 1.51877137, 4.52882911, 3.53784749, 3.70634221,\n",
       "       2.78997538, 4.20784467, 1.78205337, 2.01211937, 3.54955314,\n",
       "       1.9101776 , 2.16009845, 2.29353305, 2.57170477, 2.01929593,\n",
       "       4.19217761, 1.58576228, 2.33584628, 1.87002865, 3.43776734,\n",
       "       3.04393878, 3.18837321, 1.84375194, 1.98798112, 2.93168651,\n",
       "       1.58507727, 1.74658288, 2.27575069, 2.57992572, 2.12011622,\n",
       "       2.81460966, 4.55582131, 4.51935703, 3.85416367, 2.65017472,\n",
       "       1.57444372, 2.98496169, 1.93420624, 1.6903231 , 1.52908442,\n",
       "       2.26286851, 2.1155502 , 2.78222067, 3.59263777, 3.1303531 ,\n",
       "       4.19822044, 5.10041573, 3.63533297, 2.15544883, 2.65989763,\n",
       "       3.31643616, 2.04541234, 2.61434578, 2.22132758, 2.8207237 ,\n",
       "       3.58984603, 3.24170282, 4.39986369, 1.77525414, 1.77977944,\n",
       "       5.18249087, 2.54864376, 1.51877137, 4.41254033, 2.71292916,\n",
       "       4.49288497, 2.87785399, 2.32931326, 1.67325611, 4.56328232,\n",
       "       4.56364893, 3.48279123, 4.82707634, 3.46868341, 4.50668406,\n",
       "       3.23428632, 3.25634406, 4.26994909, 2.91587761, 3.4625108 ,\n",
       "       2.52883684, 3.1351347 , 4.02332471, 2.49411668, 2.67443831,\n",
       "       1.53127525, 1.74766152, 4.61778787, 2.09588315, 2.17410138,\n",
       "       2.9945424 , 2.05715699, 2.09588315, 2.64530497, 3.21708642,\n",
       "       2.65665917, 3.80139372, 4.51530129, 3.56681253, 2.06010602,\n",
       "       4.22335842, 3.72513549, 5.11187747, 2.13694364, 3.98968034,\n",
       "       2.0808902 , 3.98719742, 1.89705309, 1.53970735, 4.23282167,\n",
       "       1.97397601, 2.16009845, 1.5899224 , 2.57663839, 2.16009845,\n",
       "       2.62414312, 1.72128553, 3.20835394, 2.13847993, 3.37480794,\n",
       "       3.54324057, 2.52883684, 1.89966495, 1.79585379, 2.50238792,\n",
       "       1.71922909, 2.03665874, 4.4883851 , 4.56970768, 4.09716848,\n",
       "       3.86942742, 3.42444433, 2.86746459, 3.0040489 ])"
      ]
     },
     "execution_count": 33,
     "metadata": {},
     "output_type": "execute_result"
    }
   ],
   "source": [
    "model_sv.predict(X)"
   ]
  },
  {
   "cell_type": "markdown",
   "id": "8e8693a1-c339-416c-a328-552f1c2dd449",
   "metadata": {},
   "source": [
    "### Model evaluation"
   ]
  },
  {
   "cell_type": "markdown",
   "id": "dd66674e-d671-45d6-a403-bbbf58b99da9",
   "metadata": {},
   "source": [
    "#### Calculate the model's score"
   ]
  },
  {
   "cell_type": "code",
   "execution_count": 34,
   "id": "9b63d12c-5113-4f32-a326-67b8d56c308a",
   "metadata": {},
   "outputs": [
    {
     "data": {
      "text/plain": [
       "0.44437403471087844"
      ]
     },
     "execution_count": 34,
     "metadata": {},
     "output_type": "execute_result"
    }
   ],
   "source": [
    "model_sv.score(X, y)"
   ]
  }
 ],
 "metadata": {
  "kernelspec": {
   "display_name": "Python 3 (ipykernel)",
   "language": "python",
   "name": "python3"
  },
  "language_info": {
   "codemirror_mode": {
    "name": "ipython",
    "version": 3
   },
   "file_extension": ".py",
   "mimetype": "text/x-python",
   "name": "python",
   "nbconvert_exporter": "python",
   "pygments_lexer": "ipython3",
   "version": "3.10.6"
  }
 },
 "nbformat": 4,
 "nbformat_minor": 5
}
