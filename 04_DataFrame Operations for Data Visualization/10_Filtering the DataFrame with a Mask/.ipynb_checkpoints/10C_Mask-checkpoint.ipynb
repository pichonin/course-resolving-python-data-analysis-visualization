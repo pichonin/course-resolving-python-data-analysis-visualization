{
 "cells": [
  {
   "cell_type": "markdown",
   "id": "6aca4ce4",
   "metadata": {},
   "source": [
    "# Filtering the DataFrame with Boolean Arrays (Masks)\n",
    "\n",
    "- Use [this CheatSheet](https://www.craft.do/s/G80r1dqrQKrjTb/b/F80131CD-4914-414F-8B93-C03B5D1AFCD5/DataFrame) to work better with the following exercises."
   ]
  },
  {
   "cell_type": "markdown",
   "id": "0196548b-dbd4-4522-b755-74f637041b61",
   "metadata": {},
   "source": [
    "In this chapter, you will learn how to select specific parts of the data (masking) based on conditions we'll ask in the questions.\n",
    "\n",
    "Framework to work on masking the DataFrames:\n",
    "\n",
    "1. Identify the column of the condition\n",
    "2. Access the column `df.column`\n",
    "3. Compare column values based on the condition `df.column == value`; operators:\n",
    "    1. Equal `==`\n",
    "    2. Not equal `!=`\n",
    "    2. Greater `>`\n",
    "    3. Greater or equal `>=`\n",
    "4. Save the boolean array into the mask `mask = df.column == value`\n",
    "5. Filter the DataFrame with the mask `df[mask]`\n",
    "\n",
    "```python\n",
    "df.column\n",
    "df.column == value\n",
    "mask = df.column == value\n",
    "df[mask]\n",
    "```"
   ]
  },
  {
   "cell_type": "markdown",
   "id": "7b2e57f9-612a-4310-8263-44d5c81fdf17",
   "metadata": {},
   "source": [
    "## Load the data"
   ]
  },
  {
   "cell_type": "markdown",
   "id": "3def253c-92c5-4a78-acf3-e04d35bae516",
   "metadata": {},
   "source": [
    "The data is taken from [this kaggle repository](https://www.kaggle.com/datasets/azminetoushikwasi/ucl-202122-uefa-champions-league?select=goals.csv)."
   ]
  },
  {
   "cell_type": "code",
   "execution_count": 1,
   "id": "66a32ad5-d562-4705-9801-8e454f168e02",
   "metadata": {},
   "outputs": [
    {
     "data": {
      "text/html": [
       "<div>\n",
       "<style scoped>\n",
       "    .dataframe tbody tr th:only-of-type {\n",
       "        vertical-align: middle;\n",
       "    }\n",
       "\n",
       "    .dataframe tbody tr th {\n",
       "        vertical-align: top;\n",
       "    }\n",
       "\n",
       "    .dataframe thead th {\n",
       "        text-align: right;\n",
       "    }\n",
       "</style>\n",
       "<table border=\"1\" class=\"dataframe\">\n",
       "  <thead>\n",
       "    <tr style=\"text-align: right;\">\n",
       "      <th></th>\n",
       "      <th>club</th>\n",
       "      <th>position</th>\n",
       "      <th>minutes_played</th>\n",
       "      <th>match_played</th>\n",
       "      <th>goals</th>\n",
       "      <th>assists</th>\n",
       "      <th>distance_covered</th>\n",
       "    </tr>\n",
       "    <tr>\n",
       "      <th>player_name</th>\n",
       "      <th></th>\n",
       "      <th></th>\n",
       "      <th></th>\n",
       "      <th></th>\n",
       "      <th></th>\n",
       "      <th></th>\n",
       "      <th></th>\n",
       "    </tr>\n",
       "  </thead>\n",
       "  <tbody>\n",
       "    <tr>\n",
       "      <th>Courtois</th>\n",
       "      <td>Real Madrid</td>\n",
       "      <td>Goalkeeper</td>\n",
       "      <td>1230</td>\n",
       "      <td>13</td>\n",
       "      <td>0</td>\n",
       "      <td>0</td>\n",
       "      <td>64.2</td>\n",
       "    </tr>\n",
       "    <tr>\n",
       "      <th>Vinícius Júnior</th>\n",
       "      <td>Real Madrid</td>\n",
       "      <td>Forward</td>\n",
       "      <td>1199</td>\n",
       "      <td>13</td>\n",
       "      <td>4</td>\n",
       "      <td>6</td>\n",
       "      <td>133.0</td>\n",
       "    </tr>\n",
       "    <tr>\n",
       "      <th>...</th>\n",
       "      <td>...</td>\n",
       "      <td>...</td>\n",
       "      <td>...</td>\n",
       "      <td>...</td>\n",
       "      <td>...</td>\n",
       "      <td>...</td>\n",
       "      <td>...</td>\n",
       "    </tr>\n",
       "    <tr>\n",
       "      <th>Maouassa</th>\n",
       "      <td>Club Brugge</td>\n",
       "      <td>Defender</td>\n",
       "      <td>1</td>\n",
       "      <td>1</td>\n",
       "      <td>0</td>\n",
       "      <td>0</td>\n",
       "      <td>0.2</td>\n",
       "    </tr>\n",
       "    <tr>\n",
       "      <th>Zesiger</th>\n",
       "      <td>Young Boys</td>\n",
       "      <td>Defender</td>\n",
       "      <td>1</td>\n",
       "      <td>1</td>\n",
       "      <td>0</td>\n",
       "      <td>0</td>\n",
       "      <td>-</td>\n",
       "    </tr>\n",
       "  </tbody>\n",
       "</table>\n",
       "<p>747 rows × 7 columns</p>\n",
       "</div>"
      ],
      "text/plain": [
       "                        club    position  minutes_played  match_played  goals  \\\n",
       "player_name                                                                     \n",
       "Courtois         Real Madrid  Goalkeeper            1230            13      0   \n",
       "Vinícius Júnior  Real Madrid     Forward            1199            13      4   \n",
       "...                      ...         ...             ...           ...    ...   \n",
       "Maouassa         Club Brugge    Defender               1             1      0   \n",
       "Zesiger           Young Boys    Defender               1             1      0   \n",
       "\n",
       "                 assists distance_covered  \n",
       "player_name                                \n",
       "Courtois               0             64.2  \n",
       "Vinícius Júnior        6            133.0  \n",
       "...                  ...              ...  \n",
       "Maouassa               0              0.2  \n",
       "Zesiger                0                -  \n",
       "\n",
       "[747 rows x 7 columns]"
      ]
     },
     "execution_count": 1,
     "metadata": {},
     "output_type": "execute_result"
    }
   ],
   "source": [
    "import pandas as pd\n",
    "\n",
    "df_players = pd.read_csv('key_stats.csv', index_col='player_name')\n",
    "df_players"
   ]
  },
  {
   "cell_type": "markdown",
   "id": "aba1d0ed-a9bc-4d3d-8149-593d2f8406f0",
   "metadata": {},
   "source": [
    "## Simple conditions"
   ]
  },
  {
   "cell_type": "markdown",
   "id": "999810fb-9d91-4d70-bb94-72c0a4598cf6",
   "metadata": {},
   "source": [
    "### Players who scored 10 or more goals"
   ]
  },
  {
   "cell_type": "code",
   "execution_count": null,
   "id": "aba52bbe-f0d7-47a8-930f-384a323eae98",
   "metadata": {},
   "outputs": [],
   "source": []
  },
  {
   "cell_type": "markdown",
   "id": "ea786664-6a39-41fc-bb3c-4f8c4a81552b",
   "metadata": {},
   "source": [
    "### Players who assisted 5 or more times"
   ]
  },
  {
   "cell_type": "code",
   "execution_count": null,
   "id": "4a0df0d5-c124-4666-8e79-ca26a9ecf28a",
   "metadata": {},
   "outputs": [],
   "source": []
  },
  {
   "cell_type": "markdown",
   "id": "ff99cde5-8479-4ad1-bb14-bf9090e950ae",
   "metadata": {},
   "source": [
    "## Multiple conditions"
   ]
  },
  {
   "cell_type": "markdown",
   "id": "e215a3e4-0a57-4b86-90c2-9118a22c813a",
   "metadata": {},
   "source": [
    "### Filter the goalkeepers who gave at least one assist"
   ]
  },
  {
   "cell_type": "code",
   "execution_count": null,
   "id": "2b62f82d-27b2-46a4-b9b1-34ea8c3eb65c",
   "metadata": {},
   "outputs": [],
   "source": []
  },
  {
   "cell_type": "code",
   "execution_count": null,
   "id": "90bb9e03-ebeb-4c55-963e-fcc6b59c4cd4",
   "metadata": {},
   "outputs": [],
   "source": [
    "from IPython.lib.display import YouTubeVideo # execute this line to watch the observation\n",
    "YouTubeVideo('g4mPT36U1-s')"
   ]
  },
  {
   "cell_type": "markdown",
   "id": "14ae5338-7165-4c23-b771-8bb7eeafc5bc",
   "metadata": {},
   "source": [
    "### Forwards with at least 700 minutes played"
   ]
  },
  {
   "cell_type": "code",
   "execution_count": null,
   "id": "e79a7849-5c95-480f-8b74-dfc7a0979872",
   "metadata": {},
   "outputs": [],
   "source": []
  },
  {
   "cell_type": "markdown",
   "id": "e46c9802-0a87-4d5e-9aa1-37a2c4e1380b",
   "metadata": {},
   "source": [
    "### Real Madrid players who scored"
   ]
  },
  {
   "cell_type": "code",
   "execution_count": null,
   "id": "f6165e57-02f3-4583-9697-ec4ff6f10c09",
   "metadata": {},
   "outputs": [],
   "source": []
  },
  {
   "cell_type": "markdown",
   "id": "b02a9ee1-4492-4b90-afef-8fa3d05a8de4",
   "metadata": {},
   "source": [
    "### FC Barcelona players who scored"
   ]
  },
  {
   "cell_type": "code",
   "execution_count": null,
   "id": "1617c9a7-a8a9-49c1-9faa-b881e808e47e",
   "metadata": {},
   "outputs": [],
   "source": []
  },
  {
   "cell_type": "markdown",
   "id": "b1635e54-1a22-4549-80e3-4a9e894fb5b7",
   "metadata": {},
   "source": [
    "### Real Madrid players who scored and assisted"
   ]
  },
  {
   "cell_type": "code",
   "execution_count": null,
   "id": "038f8021-4f76-4d82-8fd5-cf2cc48352e3",
   "metadata": {},
   "outputs": [],
   "source": []
  },
  {
   "cell_type": "markdown",
   "id": "aa5d8b6d-5729-4a77-864e-ac681bbfad6d",
   "metadata": {},
   "source": [
    "### FC Barcelona players who scored and assisted"
   ]
  },
  {
   "cell_type": "code",
   "execution_count": null,
   "id": "b8129da7-9e31-4204-83ff-7d5d49d4c915",
   "metadata": {},
   "outputs": [],
   "source": []
  },
  {
   "cell_type": "markdown",
   "id": "e130d6e1-3919-41de-a6e2-07115519623e",
   "metadata": {},
   "source": [
    "### Defenders who scored and assisted"
   ]
  },
  {
   "cell_type": "code",
   "execution_count": null,
   "id": "851b1d08-7321-4b4c-9839-347617b2d059",
   "metadata": {},
   "outputs": [],
   "source": []
  },
  {
   "cell_type": "markdown",
   "id": "4b4f395d-1da6-4197-a092-44546bed391c",
   "metadata": {},
   "source": [
    "## Combine masks with unions and intersections"
   ]
  },
  {
   "cell_type": "markdown",
   "id": "08b061a4-204c-4a80-8ef4-29ee0d7007f2",
   "metadata": {},
   "source": [
    "### FC Barcelona players who scored or assisted"
   ]
  },
  {
   "cell_type": "code",
   "execution_count": null,
   "id": "408bf80f-6573-403e-a74a-135d84b1d1d9",
   "metadata": {},
   "outputs": [],
   "source": []
  },
  {
   "cell_type": "markdown",
   "id": "8c2d9220-29ba-4544-baf3-0936b56ffd92",
   "metadata": {},
   "source": [
    "### Liverpool players who scored or assisted"
   ]
  },
  {
   "cell_type": "code",
   "execution_count": null,
   "id": "40d24d15-1604-438a-a892-34c8f5bb2315",
   "metadata": {},
   "outputs": [],
   "source": []
  }
 ],
 "metadata": {
  "kernelspec": {
   "display_name": "Python 3 (ipykernel)",
   "language": "python",
   "name": "python3"
  },
  "language_info": {
   "codemirror_mode": {
    "name": "ipython",
    "version": 3
   },
   "file_extension": ".py",
   "mimetype": "text/x-python",
   "name": "python",
   "nbconvert_exporter": "python",
   "pygments_lexer": "ipython3",
   "version": "3.10.6"
  }
 },
 "nbformat": 4,
 "nbformat_minor": 5
}
