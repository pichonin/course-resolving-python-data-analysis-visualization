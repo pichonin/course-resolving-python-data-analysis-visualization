{
 "cells": [
  {
   "attachments": {},
   "cell_type": "markdown",
   "id": "37303f6b-c877-46dc-b7f8-18a0b3a49bff",
   "metadata": {},
   "source": [
    "# Analyze Categories of the Data with Groupby\n",
    "\n",
    "- Use [this CheatSheet](https://www.craft.do/s/G80r1dqrQKrjTb/b/6FC991B6-1161-4F88-A315-3E84528A1950/groupby()-Categorical-Columns-to-Sum) to work better with the following exercises."
   ]
  },
  {
   "attachments": {},
   "cell_type": "markdown",
   "id": "feb662cc-2f44-46fa-b95b-cddf7a0e71f4",
   "metadata": {},
   "source": [
    "## 1 Categorical & 1 Numerical"
   ]
  },
  {
   "attachments": {},
   "cell_type": "markdown",
   "id": "c937629d-d8cb-498a-b39c-01890d0eef3e",
   "metadata": {},
   "source": [
    "### Tips Dataset"
   ]
  },
  {
   "attachments": {},
   "cell_type": "markdown",
   "id": "9a4ea8b4-060e-4570-85b0-d579718bd52b",
   "metadata": {},
   "source": [
    "In which `day` do people spend more `money` in the restaurant?\n",
    "\n",
    "- Every row represents a table in the restaurant\n",
    "- Every column represents characteristics of the tables"
   ]
  },
  {
   "cell_type": "code",
   "execution_count": null,
   "id": "be74e325-947c-4e7e-91cb-8f1aeb272bdd",
   "metadata": {},
   "outputs": [],
   "source": [
    "import seaborn as sns\n",
    "\n",
    "df_tips = sns.load_dataset('tips')\n",
    "df_tips"
   ]
  },
  {
   "attachments": {},
   "cell_type": "markdown",
   "id": "24e3de85-708e-4a08-bd83-f04cf0407611",
   "metadata": {},
   "source": [
    "#### Data Manipulation"
   ]
  },
  {
   "cell_type": "code",
   "execution_count": null,
   "id": "196a0af0-976a-455a-b8e7-826894b95a0d",
   "metadata": {},
   "outputs": [],
   "source": []
  },
  {
   "attachments": {},
   "cell_type": "markdown",
   "id": "7df31f81-799f-4468-9e8f-fb2f9b857517",
   "metadata": {},
   "source": [
    "#### Plot"
   ]
  },
  {
   "cell_type": "code",
   "execution_count": null,
   "id": "6e14965a-cdbe-4bac-809b-28e0d260d9a7",
   "metadata": {},
   "outputs": [],
   "source": []
  },
  {
   "attachments": {},
   "cell_type": "markdown",
   "id": "92a1f24e-ef6c-48a0-a187-2d04ce2e17a3",
   "metadata": {},
   "source": [
    "### Titanic Dataset"
   ]
  },
  {
   "attachments": {},
   "cell_type": "markdown",
   "id": "aed641d2-0d2e-41a4-a871-b0ac7b8e3a19",
   "metadata": {},
   "source": [
    "Who was `older`: people who `survived`, or those who didn't?\n",
    "- Every row represents a person in the titanic\n",
    "- Every column represts characteristics of the people"
   ]
  },
  {
   "cell_type": "code",
   "execution_count": null,
   "id": "b73dc06e-def8-4931-a894-41af8a7a9686",
   "metadata": {},
   "outputs": [],
   "source": [
    "df_titanic = sns.load_dataset('titanic')\n",
    "df_titanic"
   ]
  },
  {
   "attachments": {},
   "cell_type": "markdown",
   "id": "3622ff0a-4ecf-4c3c-bcda-f446296dd3e2",
   "metadata": {},
   "source": [
    "#### Data Manipulation"
   ]
  },
  {
   "cell_type": "code",
   "execution_count": null,
   "id": "4191042b-07f1-4883-9b83-f044d7aaa592",
   "metadata": {},
   "outputs": [],
   "source": []
  },
  {
   "attachments": {},
   "cell_type": "markdown",
   "id": "4ca110e3-650f-426f-b508-1ad37ecc09a5",
   "metadata": {},
   "source": [
    "#### Plot"
   ]
  },
  {
   "cell_type": "code",
   "execution_count": null,
   "id": "20cb69ab-876d-4488-9f56-cf37cc31683b",
   "metadata": {},
   "outputs": [],
   "source": []
  },
  {
   "attachments": {},
   "cell_type": "markdown",
   "id": "9f3fe772-12b5-46b6-b55c-e88a349e505d",
   "metadata": {},
   "source": [
    "## 2 Categorical & 1 Numerical"
   ]
  },
  {
   "attachments": {},
   "cell_type": "markdown",
   "id": "bdbd9fe5-d0f5-4780-a1d1-f1b45dbd6659",
   "metadata": {},
   "source": [
    "### Tips Dataset"
   ]
  },
  {
   "attachments": {},
   "cell_type": "markdown",
   "id": "627c7897-ba7e-4452-bba3-c26ba1ad3814",
   "metadata": {},
   "source": [
    "When do people spend more `money` in the restaurant based on the `day` and the `time`?"
   ]
  },
  {
   "cell_type": "code",
   "execution_count": null,
   "id": "76c2ace5-d27e-4e48-8676-8e3b1427faf6",
   "metadata": {},
   "outputs": [],
   "source": [
    "df_tips #!"
   ]
  },
  {
   "attachments": {},
   "cell_type": "markdown",
   "id": "6dcc761a-2994-4381-9b8e-d83db92b2545",
   "metadata": {},
   "source": [
    "#### Data Manipulation"
   ]
  },
  {
   "cell_type": "code",
   "execution_count": null,
   "id": "87c58407-8877-4830-ad20-a8e5ec08640b",
   "metadata": {},
   "outputs": [],
   "source": []
  },
  {
   "attachments": {},
   "cell_type": "markdown",
   "id": "6cd0b798-24ac-439f-b933-8de4fbef29f6",
   "metadata": {},
   "source": [
    "#### Plot"
   ]
  },
  {
   "cell_type": "code",
   "execution_count": null,
   "id": "102b64e0-b107-46d0-a419-78e6664b5b81",
   "metadata": {},
   "outputs": [],
   "source": []
  },
  {
   "attachments": {},
   "cell_type": "markdown",
   "id": "4cea694b-9267-418c-a4cf-ffb6fa93f382",
   "metadata": {},
   "source": [
    "### Titanic Dataset"
   ]
  },
  {
   "attachments": {},
   "cell_type": "markdown",
   "id": "6de67c68-754c-46dd-8681-a14dd73c920a",
   "metadata": {},
   "source": [
    "Were `females` who survived `older` than males who `survived`?"
   ]
  },
  {
   "cell_type": "code",
   "execution_count": null,
   "id": "def0efce-4a25-4ef6-bb99-386397a892e6",
   "metadata": {},
   "outputs": [],
   "source": [
    "df_titanic #!"
   ]
  },
  {
   "attachments": {},
   "cell_type": "markdown",
   "id": "0ff561d2-4488-45ed-9d6a-df3ba0a329b2",
   "metadata": {},
   "source": [
    "#### Data Manipulation"
   ]
  },
  {
   "cell_type": "code",
   "execution_count": null,
   "id": "3302c0e3-9ed4-4737-84ed-8fcc51faf2aa",
   "metadata": {},
   "outputs": [],
   "source": []
  },
  {
   "attachments": {},
   "cell_type": "markdown",
   "id": "92dfb549-dd73-49c3-8174-cdd2af5944c1",
   "metadata": {},
   "source": [
    "#### Plot"
   ]
  },
  {
   "cell_type": "code",
   "execution_count": null,
   "id": "cd7d22f0-a9a7-4842-beee-fd71ac772004",
   "metadata": {},
   "outputs": [],
   "source": []
  },
  {
   "attachments": {},
   "cell_type": "markdown",
   "id": "23c07a81-6810-42b7-8159-0f09c3e6f9ed",
   "metadata": {},
   "source": [
    "## 3 Categorical & 1 Numerical"
   ]
  },
  {
   "attachments": {},
   "cell_type": "markdown",
   "id": "17d6ca1f-69f6-4cf0-919e-5f7ac57ef1f4",
   "metadata": {},
   "source": [
    "### Tips Dataset"
   ]
  },
  {
   "attachments": {},
   "cell_type": "markdown",
   "id": "ac3bb075-f7bf-4851-af31-96e610893048",
   "metadata": {},
   "source": [
    "When do people give more `tip` in the restaurant based on the `day`, `time` and `sex`?"
   ]
  },
  {
   "cell_type": "code",
   "execution_count": null,
   "id": "d4152008-4060-461a-90dd-361fc70cba22",
   "metadata": {},
   "outputs": [],
   "source": [
    "df_tips #!"
   ]
  },
  {
   "attachments": {},
   "cell_type": "markdown",
   "id": "5edf1c3b-f0fa-49f4-8745-77fcd17116f5",
   "metadata": {},
   "source": [
    "#### Data Manipulation"
   ]
  },
  {
   "cell_type": "code",
   "execution_count": null,
   "id": "127acd23-4f85-49c5-999b-753f5e26a25e",
   "metadata": {},
   "outputs": [],
   "source": []
  },
  {
   "attachments": {},
   "cell_type": "markdown",
   "id": "80d5daf1-038a-4873-b620-571c8e37033f",
   "metadata": {},
   "source": [
    "#### Plot"
   ]
  },
  {
   "cell_type": "code",
   "execution_count": null,
   "id": "00883940-49fd-4d3d-a905-acaba2649b0b",
   "metadata": {},
   "outputs": [],
   "source": []
  },
  {
   "attachments": {},
   "cell_type": "markdown",
   "id": "81222f75-78ce-4c11-bfb1-15855c228dd9",
   "metadata": {},
   "source": [
    "### Titanic Dataset"
   ]
  },
  {
   "attachments": {},
   "cell_type": "markdown",
   "id": "2876ab5a-437f-487d-8af9-37e1aedea119",
   "metadata": {},
   "source": [
    "Were `females` who survived in first `class` `older` than males who `survived`?"
   ]
  },
  {
   "cell_type": "code",
   "execution_count": null,
   "id": "9ed768e8-59c9-4848-a992-33dfc492c8fa",
   "metadata": {},
   "outputs": [],
   "source": [
    "df_titanic #!"
   ]
  },
  {
   "attachments": {},
   "cell_type": "markdown",
   "id": "9820102d-e07b-4216-9fa5-95aa78f5ac6b",
   "metadata": {},
   "source": [
    "#### Data Manipulation"
   ]
  },
  {
   "cell_type": "code",
   "execution_count": null,
   "id": "bd5ba55b-f2d1-4b06-9b1d-3d6c7ebbb287",
   "metadata": {},
   "outputs": [],
   "source": []
  },
  {
   "attachments": {},
   "cell_type": "markdown",
   "id": "b12f8679-d6ac-4d15-a000-4b7287a9f462",
   "metadata": {},
   "source": [
    "#### Plot"
   ]
  },
  {
   "cell_type": "code",
   "execution_count": null,
   "id": "a2c75c83-79f4-4d1d-afb7-d0fb1fa66401",
   "metadata": {},
   "outputs": [],
   "source": []
  },
  {
   "attachments": {},
   "cell_type": "markdown",
   "id": "94a88cb8-b036-4d63-a254-dca1a6633f87",
   "metadata": {},
   "source": [
    "## 1 Categorical\n",
    "\n",
    "This time, you need to count the `size()` based on the repetitions of each group within the column.\n",
    "\n",
    "If you get lost, Google: \"pandas dataframe count values in column\""
   ]
  },
  {
   "attachments": {},
   "cell_type": "markdown",
   "id": "bfbfd1e2-81b0-4259-b314-dcf69bfc4dae",
   "metadata": {},
   "source": [
    "### Tips Dataset"
   ]
  },
  {
   "attachments": {},
   "cell_type": "markdown",
   "id": "e48d9cd1-9f9e-410a-a71e-9df5686133cf",
   "metadata": {},
   "source": [
    "In which day of the week had the restaurant more tables occupied?"
   ]
  },
  {
   "cell_type": "code",
   "execution_count": null,
   "id": "ee1a54a3-01b9-4ea0-a681-972cae958099",
   "metadata": {},
   "outputs": [],
   "source": [
    "df_tips #!"
   ]
  },
  {
   "attachments": {},
   "cell_type": "markdown",
   "id": "5105f8d8-1e82-4e00-900b-86d14fa9877a",
   "metadata": {},
   "source": [
    "#### Data Manipulation"
   ]
  },
  {
   "cell_type": "code",
   "execution_count": null,
   "id": "9693d6d8-ef23-49cc-af99-b024d2aa3747",
   "metadata": {},
   "outputs": [],
   "source": []
  },
  {
   "attachments": {},
   "cell_type": "markdown",
   "id": "7d977607-ac3e-4bb3-97a0-4d8b5dc50f8c",
   "metadata": {},
   "source": [
    "#### Plot"
   ]
  },
  {
   "cell_type": "code",
   "execution_count": null,
   "id": "6cfe929e-9183-43bd-8528-392d50064a49",
   "metadata": {},
   "outputs": [],
   "source": []
  },
  {
   "attachments": {},
   "cell_type": "markdown",
   "id": "06539491-8770-4d78-b7e4-847289d8a93a",
   "metadata": {},
   "source": [
    "### Titanic Dataset"
   ]
  },
  {
   "attachments": {},
   "cell_type": "markdown",
   "id": "8a3ca326-7b18-47d1-8c28-51e3ee71aac7",
   "metadata": {},
   "source": [
    "How many people did survive the Titanic?"
   ]
  },
  {
   "cell_type": "code",
   "execution_count": null,
   "id": "3f94b332-a1ac-4a41-bc35-c6d9a011d408",
   "metadata": {},
   "outputs": [],
   "source": [
    "df_titanic"
   ]
  },
  {
   "attachments": {},
   "cell_type": "markdown",
   "id": "0804154a-377d-40e8-bce0-be2fb50c8ec0",
   "metadata": {},
   "source": [
    "#### Data Manipulation"
   ]
  },
  {
   "cell_type": "code",
   "execution_count": null,
   "id": "83d0558f-7cbe-4b80-8508-d0007a37231b",
   "metadata": {},
   "outputs": [],
   "source": []
  },
  {
   "attachments": {},
   "cell_type": "markdown",
   "id": "6dbfb63a-918b-4632-a89f-9e9e8cc8f7fb",
   "metadata": {},
   "source": [
    "#### Plot"
   ]
  },
  {
   "cell_type": "code",
   "execution_count": null,
   "id": "59e2815b-1366-4636-a2ed-6222f95614bd",
   "metadata": {},
   "outputs": [],
   "source": []
  }
 ],
 "metadata": {
  "kernelspec": {
   "display_name": "Python 3 (ipykernel)",
   "language": "python",
   "name": "python3"
  },
  "language_info": {
   "codemirror_mode": {
    "name": "ipython",
    "version": 3
   },
   "file_extension": ".py",
   "mimetype": "text/x-python",
   "name": "python",
   "nbconvert_exporter": "python",
   "pygments_lexer": "ipython3",
   "version": "3.10.6"
  }
 },
 "nbformat": 4,
 "nbformat_minor": 5
}
